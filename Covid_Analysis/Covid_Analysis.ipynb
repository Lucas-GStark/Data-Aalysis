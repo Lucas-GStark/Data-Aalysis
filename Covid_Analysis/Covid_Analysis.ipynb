{
 "cells": [
  {
   "cell_type": "code",
   "execution_count": 15,
   "metadata": {},
   "outputs": [],
   "source": [
    "import pandas as pd\n",
    "import matplotlib.pyplot as plt\n",
    "%matplotlib inline\n",
    "import urllib\n",
    "import os"
   ]
  },
  {
   "cell_type": "code",
   "execution_count": 16,
   "metadata": {},
   "outputs": [],
   "source": [
    "url_csv = \"https://covid19.who.int/WHO-COVID-19-global-data.csv\""
   ]
  },
  {
   "cell_type": "code",
   "execution_count": 17,
   "metadata": {},
   "outputs": [],
   "source": [
    "file_path = os.path.join(\"Data_Science\", \"Covid_Analysis\")\n",
    "os.makedirs(file_path, exist_ok = True)"
   ]
  },
  {
   "cell_type": "code",
   "execution_count": 18,
   "metadata": {},
   "outputs": [],
   "source": [
    "csv_path = os.path.join(file_path, \"WHO-COVID-19-global-data.csv\")\n",
    "csv = urllib.request.urlretrieve(url_csv, csv_path)"
   ]
  },
  {
   "cell_type": "code",
   "execution_count": 19,
   "metadata": {},
   "outputs": [],
   "source": [
    "d_frame = pd.read_csv(\"Data_Science\\Covid_Analysis\\WHO-COVID-19-global-data.csv\")"
   ]
  },
  {
   "cell_type": "code",
   "execution_count": 20,
   "metadata": {},
   "outputs": [],
   "source": [
    "#d_frame.head()"
   ]
  },
  {
   "cell_type": "code",
   "execution_count": 21,
   "metadata": {},
   "outputs": [],
   "source": [
    "#d_frame[d_frame.Country == \"Brazil\"] "
   ]
  },
  {
   "cell_type": "code",
   "execution_count": 22,
   "metadata": {},
   "outputs": [],
   "source": [
    "mbd = int(d_frame.loc[d_frame.Country == \"Brazil\", [\"New_deaths\"]].max())\n",
    "Max_Brazil_Deaths = d_frame.loc[d_frame.New_deaths == mbd, :]\n",
    "Max_World_Deaths_in_One_Day = d_frame.loc[d_frame.New_deaths == d_frame[\"New_deaths\"].max(), :]\n",
    "World_Total_Deaths = d_frame[\"New_deaths\"].sum()\n",
    "World_Total_New_Cases = d_frame[\"New_cases\"].sum()"
   ]
  },
  {
   "cell_type": "code",
   "execution_count": 23,
   "metadata": {},
   "outputs": [
    {
     "name": "stdout",
     "output_type": "stream",
     "text": [
      "The total world deaths was of 1643339\n"
     ]
    }
   ],
   "source": [
    "print(\"The total world deaths was of\", World_Total_Deaths)"
   ]
  },
  {
   "cell_type": "code",
   "execution_count": 31,
   "metadata": {},
   "outputs": [
    {
     "name": "stdout",
     "output_type": "stream",
     "text": [
      "The maximum deaths in one day in Brazil\n"
     ]
    },
    {
     "data": {
      "text/html": [
       "<div>\n",
       "<style scoped>\n",
       "    .dataframe tbody tr th:only-of-type {\n",
       "        vertical-align: middle;\n",
       "    }\n",
       "\n",
       "    .dataframe tbody tr th {\n",
       "        vertical-align: top;\n",
       "    }\n",
       "\n",
       "    .dataframe thead th {\n",
       "        text-align: right;\n",
       "    }\n",
       "</style>\n",
       "<table border=\"1\" class=\"dataframe\">\n",
       "  <thead>\n",
       "    <tr style=\"text-align: right;\">\n",
       "      <th></th>\n",
       "      <th>Date_reported</th>\n",
       "      <th>Country_code</th>\n",
       "      <th>Country</th>\n",
       "      <th>WHO_region</th>\n",
       "      <th>New_cases</th>\n",
       "      <th>Cumulative_cases</th>\n",
       "      <th>New_deaths</th>\n",
       "      <th>Cumulative_deaths</th>\n",
       "    </tr>\n",
       "  </thead>\n",
       "  <tbody>\n",
       "    <tr>\n",
       "      <th>10010</th>\n",
       "      <td>2020-07-31</td>\n",
       "      <td>BR</td>\n",
       "      <td>Brazil</td>\n",
       "      <td>AMRO</td>\n",
       "      <td>69074</td>\n",
       "      <td>2552265</td>\n",
       "      <td>1595</td>\n",
       "      <td>90134</td>\n",
       "    </tr>\n",
       "  </tbody>\n",
       "</table>\n",
       "</div>"
      ],
      "text/plain": [
       "      Date_reported Country_code Country WHO_region  New_cases  \\\n",
       "10010    2020-07-31           BR  Brazil       AMRO      69074   \n",
       "\n",
       "       Cumulative_cases  New_deaths  Cumulative_deaths  \n",
       "10010           2552265        1595              90134  "
      ]
     },
     "execution_count": 31,
     "metadata": {},
     "output_type": "execute_result"
    }
   ],
   "source": [
    "print(\"The maximum deaths in one day in Brazil\")\n",
    "Max_Brazil_Deaths"
   ]
  },
  {
   "cell_type": "code",
   "execution_count": 25,
   "metadata": {},
   "outputs": [
    {
     "name": "stdout",
     "output_type": "stream",
     "text": [
      "The maximum deaths in one day in the world\n"
     ]
    },
    {
     "data": {
      "text/html": [
       "<div>\n",
       "<style scoped>\n",
       "    .dataframe tbody tr th:only-of-type {\n",
       "        vertical-align: middle;\n",
       "    }\n",
       "\n",
       "    .dataframe tbody tr th {\n",
       "        vertical-align: top;\n",
       "    }\n",
       "\n",
       "    .dataframe thead th {\n",
       "        text-align: right;\n",
       "    }\n",
       "</style>\n",
       "<table border=\"1\" class=\"dataframe\">\n",
       "  <thead>\n",
       "    <tr style=\"text-align: right;\">\n",
       "      <th></th>\n",
       "      <th>Date_reported</th>\n",
       "      <th>Country_code</th>\n",
       "      <th>Country</th>\n",
       "      <th>WHO_region</th>\n",
       "      <th>New_cases</th>\n",
       "      <th>Cumulative_cases</th>\n",
       "      <th>New_deaths</th>\n",
       "      <th>Cumulative_deaths</th>\n",
       "    </tr>\n",
       "  </thead>\n",
       "  <tbody>\n",
       "    <tr>\n",
       "      <th>79205</th>\n",
       "      <td>2020-04-17</td>\n",
       "      <td>US</td>\n",
       "      <td>United States of America</td>\n",
       "      <td>AMRO</td>\n",
       "      <td>28711</td>\n",
       "      <td>632781</td>\n",
       "      <td>6409</td>\n",
       "      <td>32280</td>\n",
       "    </tr>\n",
       "  </tbody>\n",
       "</table>\n",
       "</div>"
      ],
      "text/plain": [
       "      Date_reported Country_code                   Country WHO_region  \\\n",
       "79205    2020-04-17           US  United States of America       AMRO   \n",
       "\n",
       "       New_cases  Cumulative_cases  New_deaths  Cumulative_deaths  \n",
       "79205      28711            632781        6409              32280  "
      ]
     },
     "execution_count": 25,
     "metadata": {},
     "output_type": "execute_result"
    }
   ],
   "source": [
    "print(\"The maximum deaths in one day in the world\")\n",
    "Max_World_Deaths_in_One_Day"
   ]
  },
  {
   "cell_type": "code",
   "execution_count": 30,
   "metadata": {},
   "outputs": [
    {
     "name": "stdout",
     "output_type": "stream",
     "text": [
      "Roughly speaking, the apoximate probability of death because of the desease is 2.25573039449555 %\n"
     ]
    }
   ],
   "source": [
    "WTD = int(World_Total_Deaths)\n",
    "WTNC = int(World_Total_New_Cases)\n",
    "prob = 100*WTD/WTNC\n",
    "print(\"Roughly speaking, the apoximate probability of death because of the desease is\", prob,\"%\")"
   ]
  },
  {
   "cell_type": "code",
   "execution_count": null,
   "metadata": {},
   "outputs": [],
   "source": []
  }
 ],
 "metadata": {
  "kernelspec": {
   "display_name": "Python 3",
   "language": "python",
   "name": "python3"
  },
  "language_info": {
   "codemirror_mode": {
    "name": "ipython",
    "version": 3
   },
   "file_extension": ".py",
   "mimetype": "text/x-python",
   "name": "python",
   "nbconvert_exporter": "python",
   "pygments_lexer": "ipython3",
   "version": "3.8.5"
  }
 },
 "nbformat": 4,
 "nbformat_minor": 4
}
